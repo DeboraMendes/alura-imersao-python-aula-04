{
  "nbformat": 4,
  "nbformat_minor": 0,
  "metadata": {
    "colab": {
      "provenance": [],
      "authorship_tag": "ABX9TyOnM61fVfK/QNSI5KkPho8h",
      "include_colab_link": true
    },
    "kernelspec": {
      "name": "python3",
      "display_name": "Python 3"
    },
    "language_info": {
      "name": "python"
    }
  },
  "cells": [
    {
      "cell_type": "markdown",
      "metadata": {
        "id": "view-in-github",
        "colab_type": "text"
      },
      "source": [
        "<a href=\"https://colab.research.google.com/github/DeboraMendes/alura-imersao-python-aula-04/blob/main/aula_04.ipynb\" target=\"_parent\"><img src=\"https://colab.research.google.com/assets/colab-badge.svg\" alt=\"Open In Colab\"/></a>"
      ]
    },
    {
      "cell_type": "code",
      "execution_count": null,
      "metadata": {
        "id": "cAHMWMuuXyc7"
      },
      "outputs": [],
      "source": [
        "#Instalando o SDK do Google\n",
        "!pip install -q -U google-generativeai"
      ]
    },
    {
      "cell_type": "code",
      "source": [
        "# Importando o Python SDK\n",
        "import google.generativeai as genai"
      ],
      "metadata": {
        "id": "om1BByFTb-Px"
      },
      "execution_count": null,
      "outputs": []
    },
    {
      "cell_type": "code",
      "source": [
        "#Configurando conexão com o Google\n",
        "from google.colab import userdata\n",
        "api_key = userdata.get('SECRET_KEY')\n",
        "genai.configure(api_key=api_key)"
      ],
      "metadata": {
        "id": "QNELOPP8e6QI"
      },
      "execution_count": null,
      "outputs": []
    },
    {
      "cell_type": "code",
      "source": [
        "#Consultando os modelos disponíveis\n",
        "for m in genai.list_models():\n",
        "  if 'generateContent' in m.supported_generation_methods:\n",
        "    print(m.name)"
      ],
      "metadata": {
        "colab": {
          "base_uri": "https://localhost:8080/",
          "height": 225
        },
        "id": "Ert_U9MXfaOF",
        "outputId": "ab818d11-9c45-4e94-907a-2cba503d7c21"
      },
      "execution_count": null,
      "outputs": [
        {
          "output_type": "stream",
          "name": "stdout",
          "text": [
            "models/gemini-1.0-pro\n",
            "models/gemini-1.0-pro-001\n",
            "models/gemini-1.0-pro-latest\n",
            "models/gemini-1.0-pro-vision-latest\n",
            "models/gemini-1.5-flash\n",
            "models/gemini-1.5-flash-001\n",
            "models/gemini-1.5-flash-latest\n",
            "models/gemini-1.5-pro\n",
            "models/gemini-1.5-pro-001\n",
            "models/gemini-1.5-pro-latest\n",
            "models/gemini-pro\n",
            "models/gemini-pro-vision\n"
          ]
        }
      ]
    },
    {
      "cell_type": "code",
      "source": [
        "#Configurando geração de conteúdo\n",
        "generation_config = {\n",
        "    #Define apenas uma resposta\n",
        "    \"candidate_count\": 1,\n",
        "    #Define a aletoriedade das palavras do modelo\n",
        "    \"temperature\": 0.5\n",
        "}"
      ],
      "metadata": {
        "id": "d4RjHKgHF_N1"
      },
      "execution_count": null,
      "outputs": []
    },
    {
      "cell_type": "code",
      "source": [
        "#Configurando segurança para o conteúdo que será gerado\n",
        "safety_settings = {\n",
        "    #Abuso: Conteúdo que seja ofensivo, ameaçador ou que incite violência contra indivíduos ou grupos.\n",
        "    \"HARASSMENT\": \"BLOCK_NONE\",\n",
        "    #Ódio: Conteúdo que promova o ódio, a discriminação ou a violência contra grupos específicos.\n",
        "    \"HATE\": \"BLOCK_NONE\",\n",
        "    #Sexualmente explícito: Conteúdo sexualmente explícito, incluindo imagens, textos ou vídeos.\n",
        "    \"SEXUAL\": \"BLOCK_NONE\",\n",
        "    #Conteúdo violento: Conteúdo que seja violento, gráfico ou que possa causar danos físicos ou psicológicos.\n",
        "    \"DANGEROUS\": \"BLOCK_NONE\"\n",
        "}"
      ],
      "metadata": {
        "id": "FmRy8lKbG69U"
      },
      "execution_count": null,
      "outputs": []
    },
    {
      "cell_type": "code",
      "source": [
        "#Configurando o modelo\n",
        "model = genai.GenerativeModel(\n",
        "    model_name='gemini-1.0-pro',\n",
        "    generation_config=generation_config,\n",
        "    safety_settings=safety_settings\n",
        ")"
      ],
      "metadata": {
        "id": "PDEnakVnc7zX"
      },
      "execution_count": null,
      "outputs": []
    },
    {
      "cell_type": "code",
      "source": [
        "#Interagindo com o modelo\n",
        "response = model.generate_content(\"Vamos aprender conteúdos sobre IA. Me dê sugestões.\")\n",
        "print(response.text)"
      ],
      "metadata": {
        "colab": {
          "base_uri": "https://localhost:8080/",
          "height": 833
        },
        "id": "EwAcXk0VdGx4",
        "outputId": "717ee675-32ea-4d5d-ee62-265ea5d3083e"
      },
      "execution_count": null,
      "outputs": [
        {
          "output_type": "stream",
          "name": "stdout",
          "text": [
            "**Conceitos Fundamentais**\n",
            "\n",
            "* O que é Inteligência Artificial (IA)?\n",
            "* Tipos de IA: Aprendizado de Máquina, Aprendizado Profundo, Processamento de Linguagem Natural\n",
            "* Algoritmos e modelos de IA\n",
            "* Ética e implicações da IA\n",
            "\n",
            "**Aprendizado de Máquina**\n",
            "\n",
            "* Aprendizado Supervisionado vs. Não Supervisionado\n",
            "* Algoritmos de Aprendizado de Máquina: Regressão, Classificação, Agrupamento\n",
            "* Avaliação e otimização de modelos\n",
            "* Aplicações do Aprendizado de Máquina\n",
            "\n",
            "**Aprendizado Profundo**\n",
            "\n",
            "* Redes Neurais: Convolucionais, Recorrentes, Transformadoras\n",
            "* Arquiteturas de Redes Neurais: CNNs, RNNs, Transformers\n",
            "* Treinamento e otimização de Redes Neurais\n",
            "* Aplicações do Aprendizado Profundo\n",
            "\n",
            "**Processamento de Linguagem Natural (PNL)**\n",
            "\n",
            "* Processamento de Texto e Tokenização\n",
            "* Modelagem de Linguagem: Embeddings, RNNs, Transformers\n",
            "* Geração e Tradução de Linguagem\n",
            "* Análise de Sentimento e Resumo de Texto\n",
            "\n",
            "**Aplicações da IA**\n",
            "\n",
            "* Visão Computacional: Reconhecimento de Imagem, Detecção de Objetos\n",
            "* Reconhecimento de Fala e Síntese de Fala\n",
            "* Previsão e Análise de Dados\n",
            "* Automação de Tarefas\n",
            "* Assistentes Pessoais e Chatbots\n",
            "\n",
            "**Ferramentas e Plataformas**\n",
            "\n",
            "* Bibliotecas de IA: TensorFlow, PyTorch, Keras\n",
            "* Plataformas de Computação em Nuvem: AWS, Azure, GCP\n",
            "* Recursos Educacionais: Coursera, edX, Udacity\n",
            "\n",
            "**Tendências e Avanços**\n",
            "\n",
            "* Aprendizado Federado e Aprendizado por Reforço\n",
            "* IA Explicável e Justa\n",
            "* IA Quântica e Computação de Borda\n"
          ]
        }
      ]
    },
    {
      "cell_type": "code",
      "source": [
        "#Criando chat\n",
        "chat = model.start_chat(history=[])"
      ],
      "metadata": {
        "id": "w-A8WEzHkX5G"
      },
      "execution_count": null,
      "outputs": []
    },
    {
      "cell_type": "code",
      "source": [
        "#Interagindo com o chat\n",
        "prompt = input(\"Esperando prompt: \")\n",
        "\n",
        "while prompt != \"fim\":\n",
        "  response = chat.send_message(prompt)\n",
        "  print(\"Resposta: \", response.text, \"\\n\")\n",
        "  prompt = input(\"Esperando prompt: \")"
      ],
      "metadata": {
        "colab": {
          "base_uri": "https://localhost:8080/",
          "height": 139
        },
        "id": "wYwkP4yUkvY6",
        "outputId": "386ff876-4198-4838-8085-6c1dfffade0a"
      },
      "execution_count": null,
      "outputs": [
        {
          "name": "stdout",
          "output_type": "stream",
          "text": [
            "Esperando prompt: Qual a capital do Japão?\n",
            "Resposta:  Tóquio \n",
            "\n",
            "Esperando prompt: Qual a comida típica dessa cidade?\n",
            "Resposta:  Sushi \n",
            "\n",
            "Esperando prompt: fim\n"
          ]
        }
      ]
    },
    {
      "cell_type": "markdown",
      "source": [],
      "metadata": {
        "id": "mafxcJ5jqnNW"
      }
    },
    {
      "cell_type": "code",
      "source": [
        "#Visualizando chat\n",
        "chat"
      ],
      "metadata": {
        "colab": {
          "base_uri": "https://localhost:8080/"
        },
        "id": "1SNRLcugqn1h",
        "outputId": "5dbbd1ab-af6d-4382-d857-46ee5eb6cc86"
      },
      "execution_count": null,
      "outputs": [
        {
          "output_type": "execute_result",
          "data": {
            "text/plain": [
              "ChatSession(\n",
              "    model=genai.GenerativeModel(\n",
              "        model_name='models/gemini-1.0-pro',\n",
              "        generation_config={'candidate_count': 1, 'temperature': 0.5},\n",
              "        safety_settings={<HarmCategory.HARM_CATEGORY_HARASSMENT: 7>: <HarmBlockThreshold.BLOCK_NONE: 4>, <HarmCategory.HARM_CATEGORY_HATE_SPEECH: 8>: <HarmBlockThreshold.BLOCK_NONE: 4>, <HarmCategory.HARM_CATEGORY_SEXUALLY_EXPLICIT: 9>: <HarmBlockThreshold.BLOCK_NONE: 4>, <HarmCategory.HARM_CATEGORY_DANGEROUS_CONTENT: 10>: <HarmBlockThreshold.BLOCK_NONE: 4>},\n",
              "        tools=None,\n",
              "        system_instruction=None,\n",
              "    ),\n",
              "    history=[glm.Content({'parts': [{'text': 'Qual a capital do Japão?'}], 'role': 'user'}), glm.Content({'parts': [{'text': 'Tóquio'}], 'role': 'model'}), glm.Content({'parts': [{'text': 'Qual a comid...dessa cidade?'}], 'role': 'user'}), glm.Content({'parts': [{'text': 'Sushi'}], 'role': 'model'})]\n",
              ")"
            ]
          },
          "metadata": {},
          "execution_count": 35
        }
      ]
    },
    {
      "cell_type": "code",
      "source": [
        "#Visualizando histórico do chat\n",
        "chat.history"
      ],
      "metadata": {
        "colab": {
          "base_uri": "https://localhost:8080/"
        },
        "id": "LBlhVxNoquS1",
        "outputId": "fb04e837-b208-465a-8d3c-a1eb0ccbcc9f"
      },
      "execution_count": null,
      "outputs": [
        {
          "output_type": "execute_result",
          "data": {
            "text/plain": [
              "[parts {\n",
              "   text: \"Qual a capital do Jap\\303\\243o?\"\n",
              " }\n",
              " role: \"user\",\n",
              " parts {\n",
              "   text: \"T\\303\\263quio\"\n",
              " }\n",
              " role: \"model\",\n",
              " parts {\n",
              "   text: \"Qual a comida t\\303\\255pica dessa cidade?\"\n",
              " }\n",
              " role: \"user\",\n",
              " parts {\n",
              "   text: \"Sushi\"\n",
              " }\n",
              " role: \"model\"]"
            ]
          },
          "metadata": {},
          "execution_count": 36
        }
      ]
    },
    {
      "cell_type": "code",
      "source": [
        "#Melhorando a visualização\n",
        "#Código disponível em https://ai.google.dev/tutorials/python_quickstart#import_packages\n",
        "import textwrap\n",
        "from IPython.display import display\n",
        "from IPython.display import Markdown\n",
        "\n",
        "def to_markdown(text):\n",
        "  text = text.replace('•', '  *')\n",
        "  return Markdown(textwrap.indent(text, '> ', predicate=lambda _: True))\n",
        "\n",
        "#Imprimindo o histórico\n",
        "for message in chat.history:\n",
        "  display(to_markdown(f'**{message.role}**: {message.parts[0].text}'))\n",
        "  print('-------------------------------------------')"
      ],
      "metadata": {
        "colab": {
          "base_uri": "https://localhost:8080/",
          "height": 268
        },
        "id": "ipjLkydeq3SV",
        "outputId": "4e1460ef-d8d1-4313-e1f0-d6f6d2c22bd5"
      },
      "execution_count": null,
      "outputs": [
        {
          "output_type": "display_data",
          "data": {
            "text/plain": [
              "<IPython.core.display.Markdown object>"
            ],
            "text/markdown": "> **user**: Qual a capital do Japão?"
          },
          "metadata": {}
        },
        {
          "output_type": "stream",
          "name": "stdout",
          "text": [
            "-------------------------------------------\n"
          ]
        },
        {
          "output_type": "display_data",
          "data": {
            "text/plain": [
              "<IPython.core.display.Markdown object>"
            ],
            "text/markdown": "> **model**: Tóquio"
          },
          "metadata": {}
        },
        {
          "output_type": "stream",
          "name": "stdout",
          "text": [
            "-------------------------------------------\n"
          ]
        },
        {
          "output_type": "display_data",
          "data": {
            "text/plain": [
              "<IPython.core.display.Markdown object>"
            ],
            "text/markdown": "> **user**: Qual a comida típica dessa cidade?"
          },
          "metadata": {}
        },
        {
          "output_type": "stream",
          "name": "stdout",
          "text": [
            "-------------------------------------------\n"
          ]
        },
        {
          "output_type": "display_data",
          "data": {
            "text/plain": [
              "<IPython.core.display.Markdown object>"
            ],
            "text/markdown": "> **model**: Sushi"
          },
          "metadata": {}
        },
        {
          "output_type": "stream",
          "name": "stdout",
          "text": [
            "-------------------------------------------\n"
          ]
        }
      ]
    }
  ]
}